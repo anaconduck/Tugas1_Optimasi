{
 "cells": [
  {
   "cell_type": "code",
   "execution_count": 5,
   "metadata": {},
   "outputs": [
    {
     "name": "stdout",
     "output_type": "stream",
     "text": [
      "Traveling Salesman Problem (TSP)\n",
      "=============================================\n",
      "Matriks Jarak:\n",
      "    A  B  C  D\n",
      "A [0, 50, 17, 11]\n",
      "B [50, 0, 27, 25]\n",
      "C [17, 27, 0, 24]\n",
      "D [11, 25, 24, 0]\n",
      "=============================================\n",
      "Urutan kota yang dikunjungi: A → C → B → D → A\n",
      "Jarak minimum: 80\n",
      "0.0\n"
     ]
    }
   ],
   "source": [
    "from itertools import permutations\n",
    "import time\n",
    "import random\n",
    "\n",
    "# Buat matriks jarak antar kota\n",
    "def create_symmetric_matrix(size, seed=42):\n",
    "    random.seed(seed) #untuk sekali random\n",
    "    matrix = [[0] * size for _ in range(size)]  \n",
    "\n",
    "    for i in range(size):\n",
    "        for j in range(i + 1, size):  \n",
    "            value = random.randint(10, 50)  # Nilai acak antara 10 dan 50\n",
    "            matrix[i][j] = value  \n",
    "            matrix[j][i] = value  \n",
    "\n",
    "    return matrix\n",
    "\n",
    "size = 4  # Ukuran matriks yang bisa disesuaikan\n",
    "dist = create_symmetric_matrix(size)\n",
    "\n",
    "N = len(dist)  # Jumlah kota\n",
    "\n",
    "def tsp_brute_force():\n",
    "    \"\"\"\n",
    "    Menyelesaikan TSP dengan mencoba semua kemungkinan jalur.\n",
    "    \"\"\"\n",
    "    cities = list(range(1, N))  # Kota yang bisa dikunjungi (selain kota awal 0)\n",
    "    min_cost = float('inf')\n",
    "    best_path = []\n",
    "\n",
    "    # Coba semua permutasi kota\n",
    "    for perm in permutations(cities):\n",
    "        current_path = [0] + list(perm) + [0]  # Mulai & akhiri di kota 0\n",
    "        current_cost = sum(dist[current_path[i]][current_path[i + 1]] for i in range(N))\n",
    "\n",
    "        # Perbarui jalur terbaik jika ditemukan jarak lebih kecil\n",
    "        if current_cost < min_cost:\n",
    "            min_cost = current_cost\n",
    "            best_path = current_path\n",
    "\n",
    "    return min_cost, best_path\n",
    "\n",
    "start = time.time()\n",
    "\n",
    "# Jalankan brute force TSP\n",
    "optimal_cost, optimal_path = tsp_brute_force()\n",
    "\n",
    "# Konversi indeks kota ke nama kota (opsional)\n",
    "def generate_city_names(size):\n",
    "    return [chr(65 + i) for i in range(size)]  # Menghasilkan nama kota A-Z\n",
    "\n",
    "city_names = generate_city_names(size)\n",
    "optimal_path = [city_names[i] for i in optimal_path]\n",
    "\n",
    "exec_time = (time.time()-start)\n",
    "\n",
    "print(\"Traveling Salesman Problem (TSP)\")\n",
    "print(\"=============================================\")\n",
    "print(\"Matriks Jarak:\")\n",
    "print(\"   \", \"  \".join(city_names))\n",
    "for i, row in enumerate(dist):\n",
    "    print(city_names[i], row)\n",
    "print(\"=============================================\")\n",
    "print(\"Urutan kota yang dikunjungi:\", \" → \".join(optimal_path))\n",
    "print(\"Jarak minimum:\", optimal_cost)\n",
    "print(exec_time)\n"
   ]
  },
  {
   "cell_type": "code",
   "execution_count": null,
   "metadata": {},
   "outputs": [],
   "source": [
    "# coba 4 = Jarak minimum: 80 0.0\n",
    "# coba 6 = Jarak minimum: 94 0.0\n",
    "# coba 8 = Jarak minimum: 138 0.008363485336303711\n",
    "# coba 10 = Jarak minimum: 150 0.6280934810638428\n",
    "# coba 12 = Jarak minimum: 185 119.76802968978882\n",
    "# coba 14 = Jarak minimum: 215 11681.676222324371"
   ]
  }
 ],
 "metadata": {
  "kernelspec": {
   "display_name": "Python 3",
   "language": "python",
   "name": "python3"
  },
  "language_info": {
   "codemirror_mode": {
    "name": "ipython",
    "version": 3
   },
   "file_extension": ".py",
   "mimetype": "text/x-python",
   "name": "python",
   "nbconvert_exporter": "python",
   "pygments_lexer": "ipython3",
   "version": "3.12.6"
  }
 },
 "nbformat": 4,
 "nbformat_minor": 2
}
